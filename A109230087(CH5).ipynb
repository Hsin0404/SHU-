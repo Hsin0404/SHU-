{
 "cells": [
  {
   "cell_type": "code",
   "execution_count": 1,
   "metadata": {},
   "outputs": [
    {
     "name": "stdout",
     "output_type": "stream",
     "text": [
      "Enter your score:100\n",
      "Your score is 110\n"
     ]
    }
   ],
   "source": [
    "score = eval(input('Enter your score:'))\n",
    "if score >=60:\n",
    "    score += 10\n",
    "print('Your score is %d'%(score))"
   ]
  },
  {
   "cell_type": "code",
   "execution_count": 2,
   "metadata": {},
   "outputs": [
    {
     "name": "stdout",
     "output_type": "stream",
     "text": [
      "Enter your score:100\n",
      "Your score is 110\n"
     ]
    }
   ],
   "source": [
    "score = eval(input('Enter your score:'))\n",
    "if score >=60:\n",
    "    score += 10\n",
    "else:\n",
    "    score += 8\n",
    "print('Your score is %d'%(score))"
   ]
  },
  {
   "cell_type": "code",
   "execution_count": 4,
   "metadata": {},
   "outputs": [
    {
     "name": "stdout",
     "output_type": "stream",
     "text": [
      "Enter temperture today:26\n",
      "Comfortable\n",
      "Over\n"
     ]
    }
   ],
   "source": [
    "temperture = eval(input('Enter temperture today:'))\n",
    "if temperture >= 28:\n",
    "    print('Hot')\n",
    "else:\n",
    "    print('Comfortable')\n",
    "print('Over')"
   ]
  },
  {
   "cell_type": "code",
   "execution_count": 5,
   "metadata": {},
   "outputs": [
    {
     "name": "stdout",
     "output_type": "stream",
     "text": [
      "Enter temperture today:20\n",
      "Cold\n",
      "Over\n"
     ]
    }
   ],
   "source": [
    "temperture = eval(input('Enter temperture today:'))\n",
    "if temperture >= 28:\n",
    "    print('Hot')\n",
    "elif temperture >= 22:\n",
    "    print('Comfortable')\n",
    "else:\n",
    "    print('Cold')\n",
    "print('Over')"
   ]
  },
  {
   "cell_type": "code",
   "execution_count": 7,
   "metadata": {},
   "outputs": [
    {
     "name": "stdout",
     "output_type": "stream",
     "text": [
      "Enter temperture today:30\n",
      "Enter temperture today:30\n",
      "Hot\n",
      "Over\n"
     ]
    }
   ],
   "source": [
    "temperture = eval(input('Enter temperture today:'))\n",
    "humility = eval(input('Enter temperture today:'))\n",
    "if temperture >= 28:\n",
    "    print('Hot')\n",
    "elif temperture >= 22 and humility >=40 and humility <=50:\n",
    "    print('Comfortable')\n",
    "else:\n",
    "    print('Cold')\n",
    "print('Over')"
   ]
  },
  {
   "cell_type": "code",
   "execution_count": 9,
   "metadata": {},
   "outputs": [
    {
     "name": "stdout",
     "output_type": "stream",
     "text": [
      "Enter a character:a\n",
      "a is lowercase charater\n"
     ]
    }
   ],
   "source": [
    "char = input('Enter a character:')\n",
    "if char >='a'and char <='z':\n",
    "    print('%c is lowercase charater'%(char))\n",
    "elif char >='A' and char <='Z':\n",
    "    print('%c is uppercase charater'%(char))\n",
    "else:\n",
    "    print('%s is other charater'%(char))"
   ]
  },
  {
   "cell_type": "code",
   "execution_count": 10,
   "metadata": {},
   "outputs": [
    {
     "name": "stdout",
     "output_type": "stream",
     "text": [
      "Enter a number:6\n",
      "6is even number.\n",
      "Test is over\n"
     ]
    }
   ],
   "source": [
    "num = eval(input('Enter a number:'))\n",
    "if num % 2 ==0:\n",
    "    print('%d'%(num),end='')\n",
    "    print('is even number.')\n",
    "else:\n",
    "    print('%d'%(num),end='')\n",
    "    print('is odd number.')\n",
    "print('Test is over')"
   ]
  },
  {
   "cell_type": "code",
   "execution_count": null,
   "metadata": {},
   "outputs": [],
   "source": []
  }
 ],
 "metadata": {
  "kernelspec": {
   "display_name": "Python 3",
   "language": "python",
   "name": "python3"
  },
  "language_info": {
   "codemirror_mode": {
    "name": "ipython",
    "version": 3
   },
   "file_extension": ".py",
   "mimetype": "text/x-python",
   "name": "python",
   "nbconvert_exporter": "python",
   "pygments_lexer": "ipython3",
   "version": "3.8.3"
  }
 },
 "nbformat": 4,
 "nbformat_minor": 4
}
